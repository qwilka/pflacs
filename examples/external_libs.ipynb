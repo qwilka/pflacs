{
 "cells": [
  {
   "cell_type": "markdown",
   "metadata": {},
   "source": [
    "**Description**\n",
    "    \n",
    "    Example of using functions from external libraries with `pflacs.`\n",
    "\n",
    "**References**\n",
    "\n",
    "1. ``seawater`` module, functions for physical properties of sea water, author: Bjørn Ådlandsvik, https://github.com/bjornaa/seawater \n",
    "1. ``wall`` module, subsea pipeline wall thickness design to PD 8010-2, author: Ben Randerson, https://github.com/benranderson/wall\n",
    "1. ``numpy.interp`` function for 1-d linear interpolation https://docs.scipy.org/doc/numpy/reference/generated/numpy.interp.html"
   ]
  },
  {
   "cell_type": "code",
   "execution_count": 1,
   "metadata": {},
   "outputs": [],
   "source": [
    "from pflacs import Premise\n",
    "import seawater\n",
    "import wall\n",
    "import numpy"
   ]
  },
  {
   "cell_type": "code",
   "execution_count": 2,
   "metadata": {},
   "outputs": [],
   "source": [
    "extlib = Premise(\"External libraries test\")\n",
    "extlib.add_param(\"water_depth\", 10, \"water depth (m)\")\n",
    "extlib.add_param(\"rho_seawater\", 1025, \"assumed water density (kg/m3)\");"
   ]
  },
  {
   "cell_type": "code",
   "execution_count": 3,
   "metadata": {},
   "outputs": [
    {
     "name": "stdout",
     "output_type": "stream",
     "text": [
      "Help on function dens in module seawater.density:\n",
      "\n",
      "dens(S, T, P=0)\n",
      "    Compute density of seawater from salinity, temperature, and pressure\n",
      "    \n",
      "    Usage: dens(S, T, [P])\n",
      "    \n",
      "    Input:\n",
      "        S = Salinity,     [PSS-78]\n",
      "        T = Temperature,  [�C]\n",
      "        P = Pressure,     [dbar = 10**4 Pa]\n",
      "    P is optional, with default value zero\n",
      "    \n",
      "    Output:\n",
      "        Density,          [kg/m**3]\n",
      "    \n",
      "    Algorithm: UNESCO 1983\n",
      "\n"
     ]
    }
   ],
   "source": [
    "help(seawater.dens)"
   ]
  },
  {
   "cell_type": "code",
   "execution_count": 4,
   "metadata": {},
   "outputs": [],
   "source": [
    "extlib.add_param(\"lat\", 53.2, \"geographical latitude\")\n",
    "extlib.add_param(\"S\", 35, \"water salinity\")\n",
    "extlib.add_param(\"T\", 8, \"water temperature (°C)\");"
   ]
  },
  {
   "cell_type": "code",
   "execution_count": 5,
   "metadata": {
    "scrolled": true
   },
   "outputs": [
    {
     "name": "stdout",
     "output_type": "stream",
     "text": [
      "<pflacs.pflacs.Function object at 0x7efbcd2f0400>\n"
     ]
    }
   ],
   "source": [
    "extlib.plugin_func(seawater.dens)\n",
    "print(extlib.dens)"
   ]
  },
  {
   "cell_type": "code",
   "execution_count": 6,
   "metadata": {},
   "outputs": [
    {
     "data": {
      "text/plain": [
       "False"
      ]
     },
     "execution_count": 6,
     "metadata": {},
     "output_type": "execute_result"
    }
   ],
   "source": [
    "extlib.dens is seawater.dens"
   ]
  },
  {
   "cell_type": "code",
   "execution_count": 7,
   "metadata": {},
   "outputs": [
    {
     "name": "stdout",
     "output_type": "stream",
     "text": [
      "Help on Function in module seawater.density:\n",
      "\n",
      "dens(S, T, P=0)\n",
      "    Compute density of seawater from salinity, temperature, and pressure\n",
      "    \n",
      "    Usage: dens(S, T, [P])\n",
      "    \n",
      "    Input:\n",
      "        S = Salinity,     [PSS-78]\n",
      "        T = Temperature,  [�C]\n",
      "        P = Pressure,     [dbar = 10**4 Pa]\n",
      "    P is optional, with default value zero\n",
      "    \n",
      "    Output:\n",
      "        Density,          [kg/m**3]\n",
      "    \n",
      "    Algorithm: UNESCO 1983\n",
      "\n"
     ]
    }
   ],
   "source": [
    "help(extlib.dens)"
   ]
  },
  {
   "cell_type": "code",
   "execution_count": 8,
   "metadata": {},
   "outputs": [
    {
     "name": "stdout",
     "output_type": "stream",
     "text": [
      "calculated water density (kg/m3) = 1027.2741886990423\n"
     ]
    }
   ],
   "source": [
    "extlib.add_param(\"rho_seawater_check\", desc=\"calculated water density (kg/m3)\")\n",
    "extlib.rho_seawater_check = extlib.dens()\n",
    "print(f'{extlib.get_param_desc(\"rho_seawater_check\")} = {extlib.rho_seawater_check}')"
   ]
  },
  {
   "cell_type": "code",
   "execution_count": 9,
   "metadata": {},
   "outputs": [
    {
     "name": "stdout",
     "output_type": "stream",
     "text": [
      "Warning: calculated seawater density 1027.2741886990423     not equal to assumed value 1025.\n"
     ]
    }
   ],
   "source": [
    "if extlib.rho_seawater != extlib.rho_seawater_check:\n",
    "    print(f\"Warning: calculated seawater density {extlib.rho_seawater_check} \\\n",
    "    not equal to assumed value {extlib.rho_seawater}.\")"
   ]
  },
  {
   "cell_type": "code",
   "execution_count": 10,
   "metadata": {},
   "outputs": [],
   "source": [
    "extlib.add_param(\"salinities\", desc=\"water salinity range\")\n",
    "extlib.add_param(\"densities\", desc=\"water density range\")\n",
    "extlib.salinities = numpy.linspace(30, 40, 11)\n",
    "extlib.densities = extlib.dens(S=extlib.salinities)"
   ]
  },
  {
   "cell_type": "code",
   "execution_count": 11,
   "metadata": {},
   "outputs": [
    {
     "data": {
      "image/png": "[encoded data removed]",
      "text/plain": [
       "<Figure size 432x288 with 1 Axes>"
      ]
     },
     "metadata": {
      "needs_background": "light"
     },
     "output_type": "display_data"
    }
   ],
   "source": [
    "import matplotlib.pyplot as plt\n",
    "plt.plot(extlib.salinities, extlib.densities, \"bx\")\n",
    "plt.xlabel('seawater salinity'); plt.ylabel('seawater water density');"
   ]
  },
  {
   "cell_type": "code",
   "execution_count": 12,
   "metadata": {
    "scrolled": true
   },
   "outputs": [
    {
     "name": "stdout",
     "output_type": "stream",
     "text": [
      "Help on function pressure_head in module wall.wall:\n",
      "\n",
      "pressure_head(h, rho, g=9.81)\n",
      "    Calculate the fluid pressure head.\n",
      "    \n",
      "    Parameters\n",
      "    ----------\n",
      "    h : array : Water depth [m]\n",
      "    rho : array : Fluid density [kg/m^3]\n",
      "    g : float : Acceleration of gravitiy [m/s/s]\n",
      "    \n",
      "    Returns\n",
      "    -------\n",
      "    P_h : array : Pressure head [Pa]\n",
      "\n"
     ]
    }
   ],
   "source": [
    "help(wall.pressure_head)"
   ]
  },
  {
   "cell_type": "code",
   "execution_count": 13,
   "metadata": {},
   "outputs": [],
   "source": [
    "extlib.plugin_func(wall.pressure_head, \n",
    "                 argmap={\"h\":\"water_depth\", \"rho\":\"rho_seawater\"});"
   ]
  },
  {
   "cell_type": "code",
   "execution_count": 14,
   "metadata": {},
   "outputs": [
    {
     "name": "stdout",
     "output_type": "stream",
     "text": [
      "«External libraries test» pressure = 100552.5\n"
     ]
    }
   ],
   "source": [
    "extlib.add_param(\"pressure\", desc=\"pressure (Pa)\")\n",
    "extlib.pressure = extlib.pressure_head()\n",
    "print(f'«{extlib.name}» pressure = {extlib.pressure}')"
   ]
  },
  {
   "cell_type": "code",
   "execution_count": 15,
   "metadata": {},
   "outputs": [
    {
     "name": "stdout",
     "output_type": "stream",
     "text": [
      "Python Library Documentation: function interp in module numpy\n",
      "\n",
      "i\bin\bnt\bte\ber\brp\bp(x, xp, fp, left=None, right=None, period=None)\n",
      "    One-dimensional linear interpolation.\n",
      "    \n",
      "    Returns the one-dimensional piecewise linear interpolant to a function\n",
      "    with given discrete data points (`xp`, `fp`), evaluated at `x`.\n",
      "    \n",
      "    Parameters\n",
      "    ----------\n",
      "    x : array_like\n",
      "        The x-coordinates at which to evaluate the interpolated values.\n",
      "    \n",
      "    xp : 1-D sequence of floats\n",
      "        The x-coordinates of the data points, must be increasing if argument\n",
      "        `period` is not specified. Otherwise, `xp` is internally sorted after\n",
      "        normalizing the periodic boundaries with ``xp = xp % period``.\n",
      "    \n",
      "    fp : 1-D sequence of float or complex\n",
      "        The y-coordinates of the data points,\n"
     ]
    }
   ],
   "source": [
    "import pydoc\n",
    "print(pydoc.render_doc(numpy.interp)[:800])  # print top section of help for numpy.interp\n",
    "#print(numpy.interp.__doc__[:800])"
   ]
  },
  {
   "cell_type": "code",
   "execution_count": 16,
   "metadata": {},
   "outputs": [],
   "source": [
    "extlib.plugin_func(numpy.interp, \n",
    "            argmap={\"x\":\"S\", \"xp\":\"salinities\", \"fp\":\"densities\"}, \n",
    "            newname=\"interp_water_density\");"
   ]
  },
  {
   "cell_type": "code",
   "execution_count": 17,
   "metadata": {
    "scrolled": true
   },
   "outputs": [
    {
     "name": "stdout",
     "output_type": "stream",
     "text": [
      "Interpolated water density = 1027.2741886990423, for salinity = 35 \n"
     ]
    }
   ],
   "source": [
    "rho_interp = extlib.interp_water_density()\n",
    "print(f\"Interpolated water density = {rho_interp}, for salinity = {extlib.S} \")"
   ]
  },
  {
   "cell_type": "code",
   "execution_count": 18,
   "metadata": {},
   "outputs": [
    {
     "name": "stdout",
     "output_type": "stream",
     "text": [
      "Interpolated water density = 1030.81293808007, for salinity = 39.5 \n"
     ]
    }
   ],
   "source": [
    "rho_interp = extlib.interp_water_density(S=39.5)\n",
    "print(f\"Interpolated water density = {rho_interp}, for salinity = 39.5 \")"
   ]
  }
 ],
 "metadata": {
  "kernelspec": {
   "display_name": "Python 3",
   "language": "python",
   "name": "python3"
  },
  "language_info": {
   "codemirror_mode": {
    "name": "ipython",
    "version": 3
   },
   "file_extension": ".py",
   "mimetype": "text/x-python",
   "name": "python",
   "nbconvert_exporter": "python",
   "pygments_lexer": "ipython3",
   "version": "3.7.3"
  }
 },
 "nbformat": 4,
 "nbformat_minor": 2
}
