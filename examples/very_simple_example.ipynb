{
 "cells": [
  {
   "cell_type": "markdown",
   "metadata": {},
   "source": [
    "**Example**\n",
    "    \n",
    "    Very simple example of `pflacs` usage.\n",
    "\n",
    "**References**:\n",
    "\n",
    "1. ``pflacs`` Github repository https://github.com/qwilka/pflacs\n",
    "1. ``pflacs`` on-line documentation [basic-usage](https://qwilka.github.io/pflacs/_build/html/introduction.html#basic-usage) \n",
    "1. Original notebook on Github https://github.com/qwilka/pflacs/blob/master/examples/very_simple_example.ipynb"
   ]
  },
  {
   "cell_type": "markdown",
   "metadata": {},
   "source": [
    "Start by importing class `Premise` from `pflacs`."
   ]
  },
  {
   "cell_type": "code",
   "execution_count": 1,
   "metadata": {},
   "outputs": [],
   "source": [
    "from pflacs import Premise"
   ]
  },
  {
   "cell_type": "markdown",
   "metadata": {},
   "source": [
    "This simple example function `adda` will be used to demonstate `pflacs` usage."
   ]
  },
  {
   "cell_type": "code",
   "execution_count": 2,
   "metadata": {},
   "outputs": [],
   "source": [
    "def adda(a, b, c=0, d=0, e=0):\n",
    "    \"\"\"Add number b to number a. Optionally also add \n",
    "    any of numbers c, d, e to the result.\n",
    "    \"\"\"\n",
    "    print(f\"Function `adda` called with arguments a={a} b={b}\", end=\"\")\n",
    "    if c: print(f\" c={c}\", end=\"\")\n",
    "    if d: print(f\" d={d}\", end=\"\")\n",
    "    if e: print(f\" e={e}\", end=\"\")\n",
    "    print()\n",
    "    return a + b + c + d + e"
   ]
  },
  {
   "cell_type": "code",
   "execution_count": 3,
   "metadata": {},
   "outputs": [
    {
     "name": "stdout",
     "output_type": "stream",
     "text": [
      "Function `adda` called with arguments a=10 b=5 c=3\n",
      "Example usage of function `adda(10, 5, 3)` gives result=18\n"
     ]
    }
   ],
   "source": [
    "result = adda(10, 5, 3)\n",
    "print(f\"Example usage of function `adda(10, 5, 3)` gives result={result}\")"
   ]
  },
  {
   "cell_type": "markdown",
   "metadata": {},
   "source": [
    "Let's create a study called $testcase$. To do this, use the `Premise` class to create a study node. In this case, a node is created with name «Simple pflacs study», and two parameters called $a$ and $b$ are also created with values 10 and 5 respectively."
   ]
  },
  {
   "cell_type": "code",
   "execution_count": 4,
   "metadata": {},
   "outputs": [],
   "source": [
    "testcase = Premise(\"Simple pflacs study\",\n",
    "                parameters={\n",
    "                    \"a\": 10,\n",
    "                    \"b\": 5,\n",
    "                } )"
   ]
  },
  {
   "cell_type": "markdown",
   "metadata": {},
   "source": [
    "The parameters $a$ and $b$ become [attributes](https://docs.python.org/3/tutorial/classes.html) of node $testcase$:"
   ]
  },
  {
   "cell_type": "code",
   "execution_count": 5,
   "metadata": {},
   "outputs": [
    {
     "name": "stdout",
     "output_type": "stream",
     "text": [
      "testcase.a = 10\n",
      "testcase.b = 5\n"
     ]
    }
   ],
   "source": [
    "print(f\"testcase.a = {testcase.a}\")\n",
    "print(f\"testcase.b = {testcase.b}\")"
   ]
  },
  {
   "cell_type": "markdown",
   "metadata": {},
   "source": [
    "We would like to add the functionality of function `adda` to the $testcase$ node. This can be done by plugging-in function `adda` using the method `Premise.plugin_func`. (Note that effectively this [patches](https://en.wikipedia.org/wiki/Monkey_patch) function `adda` as a method of class `Premise`.)"
   ]
  },
  {
   "cell_type": "code",
   "execution_count": 6,
   "metadata": {},
   "outputs": [
    {
     "data": {
      "text/plain": [
       "True"
      ]
     },
     "execution_count": 6,
     "metadata": {},
     "output_type": "execute_result"
    }
   ],
   "source": [
    "testcase.plugin_func(adda)"
   ]
  },
  {
   "cell_type": "markdown",
   "metadata": {},
   "source": [
    "Function `adda` is now effectively bound to node `testcase`, and can access $testcase$ attributes. Function `adda` expects to be called with arguments $a$ and $b$, and since $testcase$ has attributes called $a$ and $b$, by default `testcase.a` and `testcase.b` will be used as arguments when `adda` is invoked on node $testcase$:"
   ]
  },
  {
   "cell_type": "code",
   "execution_count": 7,
   "metadata": {},
   "outputs": [
    {
     "name": "stdout",
     "output_type": "stream",
     "text": [
      "Function `adda` called with arguments a=10 b=5\n",
      "testcase.adda() result=15\n"
     ]
    }
   ],
   "source": [
    "result = testcase.adda()\n",
    "print(f\"testcase.adda() result={result}\")"
   ]
  },
  {
   "cell_type": "markdown",
   "metadata": {},
   "source": [
    "For comparison, if function `adda` is directly invoked without arguments, an error occurs because the expected arguments $a$ and $b$ are missing:"
   ]
  },
  {
   "cell_type": "code",
   "execution_count": 8,
   "metadata": {},
   "outputs": [
    {
     "name": "stdout",
     "output_type": "stream",
     "text": [
      "Executing plain `adda()` gives an error: «adda() missing 2 required positional arguments: 'a' and 'b'»\n"
     ]
    }
   ],
   "source": [
    "try:\n",
    "    result = adda()\n",
    "except Exception as error:\n",
    "    print(f\"Executing plain `adda()` gives an error: «{error}»\")"
   ]
  },
  {
   "cell_type": "markdown",
   "metadata": {},
   "source": [
    "We can override the default behaviour of `testcase.adda` by explicitly specifying arguments:"
   ]
  },
  {
   "cell_type": "code",
   "execution_count": 9,
   "metadata": {},
   "outputs": [
    {
     "name": "stdout",
     "output_type": "stream",
     "text": [
      "Function `adda` called with arguments a=2 b=5\n",
      "testcase.adda(2) result=7\n",
      "Function `adda` called with arguments a=10 b=7\n",
      "testcase.adda(b=7) result=17\n",
      "Function `adda` called with arguments a=10.1 b=0 c=3\n",
      "testcase.adda(10.1, 0, 3) result=13.1\n",
      "Function `adda` called with arguments a=10 b=5 e=-3\n",
      "testcase.adda(e=-3) result=12\n"
     ]
    }
   ],
   "source": [
    "result = testcase.adda(2)\n",
    "print(f\"testcase.adda(2) result={result}\")\n",
    "result = testcase.adda(b=7)\n",
    "print(f\"testcase.adda(b=7) result={result}\")\n",
    "result = testcase.adda(10.1, 0, 3)\n",
    "print(f\"testcase.adda(10.1, 0, 3) result={result}\")\n",
    "result = testcase.adda(e=-3)\n",
    "print(f\"testcase.adda(e=-3) result={result}\")"
   ]
  },
  {
   "cell_type": "markdown",
   "metadata": {},
   "source": [
    "To make things more interesting, let's plug-in another function to study $testcase$:"
   ]
  },
  {
   "cell_type": "code",
   "execution_count": 10,
   "metadata": {},
   "outputs": [],
   "source": [
    "def suba(a, b, c, d=0, e=0):\n",
    "    \"\"\"Subtract numbers b and c from number a. Optionally also subtract \n",
    "    either or both of numbers d and e from the result.\n",
    "    \"\"\"\n",
    "    print(f\"Function `suba` called with arguments a={a} b={b} c={c}\", end=\"\")\n",
    "    if d: print(f\" d={d}\", end=\"\")\n",
    "    if e: print(f\" e={e}\", end=\"\")\n",
    "    print()\n",
    "    return a - b - c - d - e"
   ]
  },
  {
   "cell_type": "code",
   "execution_count": 11,
   "metadata": {},
   "outputs": [
    {
     "data": {
      "text/plain": [
       "True"
      ]
     },
     "execution_count": 11,
     "metadata": {},
     "output_type": "execute_result"
    }
   ],
   "source": [
    "testcase.plugin_func(suba)"
   ]
  },
  {
   "cell_type": "code",
   "execution_count": 12,
   "metadata": {},
   "outputs": [
    {
     "name": "stderr",
     "output_type": "stream",
     "text": [
      "PflacsFunc.__call__: function «Premise coord=() «Simple pflacs study»».«suba»; c; (original function error: missing a required argument: 'c')\n"
     ]
    },
    {
     "name": "stdout",
     "output_type": "stream",
     "text": [
      "testcase.suba() result=False\n"
     ]
    }
   ],
   "source": [
    "result = testcase.suba()\n",
    "print(f\"testcase.suba() result={result}\")"
   ]
  },
  {
   "cell_type": "markdown",
   "metadata": {},
   "source": [
    "Invoking `testcase.suba()` caused an exception because `suba` expects argument $c$ to be specified in addition to $a$ and $b$, and testcase does not have an attribute $testcase.c$. We can add a new parameter using the method `add_param`:"
   ]
  },
  {
   "cell_type": "code",
   "execution_count": 13,
   "metadata": {},
   "outputs": [
    {
     "data": {
      "text/plain": [
       "True"
      ]
     },
     "execution_count": 13,
     "metadata": {},
     "output_type": "execute_result"
    }
   ],
   "source": [
    "testcase.add_param(\"c\", 4)"
   ]
  },
  {
   "cell_type": "code",
   "execution_count": 14,
   "metadata": {},
   "outputs": [
    {
     "data": {
      "text/plain": [
       "4"
      ]
     },
     "execution_count": 14,
     "metadata": {},
     "output_type": "execute_result"
    }
   ],
   "source": [
    "testcase.c"
   ]
  },
  {
   "cell_type": "code",
   "execution_count": 15,
   "metadata": {},
   "outputs": [
    {
     "name": "stdout",
     "output_type": "stream",
     "text": [
      "Function `suba` called with arguments a=10 b=5 c=4\n",
      "testcase.suba() result=1\n"
     ]
    }
   ],
   "source": [
    "result = testcase.suba()\n",
    "print(f\"testcase.suba() result={result}\")"
   ]
  },
  {
   "cell_type": "markdown",
   "metadata": {},
   "source": [
    "Let's save our study in a file, buy using the `savefile` method:"
   ]
  },
  {
   "cell_type": "code",
   "execution_count": 16,
   "metadata": {},
   "outputs": [
    {
     "data": {
      "text/plain": [
       "True"
      ]
     },
     "execution_count": 16,
     "metadata": {},
     "output_type": "execute_result"
    }
   ],
   "source": [
    "testcase.savefile(\"very_simple_study.pflacs\")"
   ]
  },
  {
   "cell_type": "markdown",
   "metadata": {},
   "source": [
    "Note that to re-open this study, invoke class method `Premise.openfile`:\n",
    "> restart = Premise.openfile(\"very_simple_study.pflacs\")"
   ]
  },
  {
   "cell_type": "code",
   "execution_count": null,
   "metadata": {},
   "outputs": [],
   "source": []
  }
 ],
 "metadata": {
  "kernelspec": {
   "display_name": "Python 3",
   "language": "python",
   "name": "python3"
  },
  "language_info": {
   "codemirror_mode": {
    "name": "ipython",
    "version": 3
   },
   "file_extension": ".py",
   "mimetype": "text/x-python",
   "name": "python",
   "nbconvert_exporter": "python",
   "pygments_lexer": "ipython3",
   "version": "3.7.3"
  }
 },
 "nbformat": 4,
 "nbformat_minor": 2
}
